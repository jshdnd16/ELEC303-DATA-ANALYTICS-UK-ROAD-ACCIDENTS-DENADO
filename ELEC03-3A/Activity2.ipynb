{
 "cells": [
  {
   "cell_type": "markdown",
   "id": "34180ae3-3797-4273-9e75-bf4a6c238483",
   "metadata": {},
   "source": [
    "<h1>Activity 2 - UK ROAD ACCIDENT DATA ANALYTICS PROJECT</h1>\n",
    "<hr>\n",
    "<h1>Analyst : Joshua Z. Deñado</h1>"
   ]
  },
  {
   "cell_type": "code",
   "execution_count": 1,
   "id": "d691775e-b847-4b38-9ef2-5fc517149b54",
   "metadata": {},
   "outputs": [],
   "source": [
    "import numpy as np\n",
    "import pandas as pd\n",
    "import matplotlib.pyplot as plt\n",
    "from scipy.stats import f_oneway\n",
    "import warnings\n",
    "warnings.filterwarnings('ignore')"
   ]
  },
  {
   "cell_type": "code",
   "execution_count": 2,
   "id": "21c70cff-e72d-473d-afe6-52fd96d147b1",
   "metadata": {},
   "outputs": [
    {
     "data": {
      "text/html": [
       "<div>\n",
       "<style scoped>\n",
       "    .dataframe tbody tr th:only-of-type {\n",
       "        vertical-align: middle;\n",
       "    }\n",
       "\n",
       "    .dataframe tbody tr th {\n",
       "        vertical-align: top;\n",
       "    }\n",
       "\n",
       "    .dataframe thead th {\n",
       "        text-align: right;\n",
       "    }\n",
       "</style>\n",
       "<table border=\"1\" class=\"dataframe\">\n",
       "  <thead>\n",
       "    <tr style=\"text-align: right;\">\n",
       "      <th></th>\n",
       "      <th>Index</th>\n",
       "      <th>Accident_Severity</th>\n",
       "      <th>Accident Date</th>\n",
       "      <th>Latitude</th>\n",
       "      <th>Light_Conditions</th>\n",
       "      <th>District Area</th>\n",
       "      <th>Longitude</th>\n",
       "      <th>Number_of_Casualties</th>\n",
       "      <th>Number_of_Vehicles</th>\n",
       "      <th>Road_Surface_Conditions</th>\n",
       "      <th>Road_Type</th>\n",
       "      <th>Urban_or_Rural_Area</th>\n",
       "      <th>Weather_Conditions</th>\n",
       "      <th>Vehicle_Type</th>\n",
       "    </tr>\n",
       "  </thead>\n",
       "  <tbody>\n",
       "    <tr>\n",
       "      <th>0</th>\n",
       "      <td>200701BS64157</td>\n",
       "      <td>Serious</td>\n",
       "      <td>5/6/2019</td>\n",
       "      <td>51.506187</td>\n",
       "      <td>Darkness - lights lit</td>\n",
       "      <td>Kensington and Chelsea</td>\n",
       "      <td>-0.209082</td>\n",
       "      <td>1</td>\n",
       "      <td>2</td>\n",
       "      <td>Dry</td>\n",
       "      <td>Single carriageway</td>\n",
       "      <td>Urban</td>\n",
       "      <td>Fine no high winds</td>\n",
       "      <td>Car</td>\n",
       "    </tr>\n",
       "    <tr>\n",
       "      <th>1</th>\n",
       "      <td>200701BS65737</td>\n",
       "      <td>Serious</td>\n",
       "      <td>2/7/2019</td>\n",
       "      <td>51.495029</td>\n",
       "      <td>Daylight</td>\n",
       "      <td>Kensington and Chelsea</td>\n",
       "      <td>-0.173647</td>\n",
       "      <td>1</td>\n",
       "      <td>2</td>\n",
       "      <td>Wet or damp</td>\n",
       "      <td>Single carriageway</td>\n",
       "      <td>Urban</td>\n",
       "      <td>Raining no high winds</td>\n",
       "      <td>Car</td>\n",
       "    </tr>\n",
       "    <tr>\n",
       "      <th>2</th>\n",
       "      <td>200701BS66127</td>\n",
       "      <td>Serious</td>\n",
       "      <td>26-08-2019</td>\n",
       "      <td>51.517715</td>\n",
       "      <td>Darkness - lighting unknown</td>\n",
       "      <td>Kensington and Chelsea</td>\n",
       "      <td>-0.210215</td>\n",
       "      <td>1</td>\n",
       "      <td>3</td>\n",
       "      <td>Dry</td>\n",
       "      <td>NaN</td>\n",
       "      <td>Urban</td>\n",
       "      <td>NaN</td>\n",
       "      <td>Taxi/Private hire car</td>\n",
       "    </tr>\n",
       "    <tr>\n",
       "      <th>3</th>\n",
       "      <td>200701BS66128</td>\n",
       "      <td>Serious</td>\n",
       "      <td>16-08-2019</td>\n",
       "      <td>51.495478</td>\n",
       "      <td>Daylight</td>\n",
       "      <td>Kensington and Chelsea</td>\n",
       "      <td>-0.202731</td>\n",
       "      <td>1</td>\n",
       "      <td>4</td>\n",
       "      <td>Dry</td>\n",
       "      <td>Single carriageway</td>\n",
       "      <td>Urban</td>\n",
       "      <td>Fine no high winds</td>\n",
       "      <td>Bus or coach (17 or more pass seats)</td>\n",
       "    </tr>\n",
       "    <tr>\n",
       "      <th>4</th>\n",
       "      <td>200701BS66837</td>\n",
       "      <td>Slight</td>\n",
       "      <td>3/9/2019</td>\n",
       "      <td>51.488576</td>\n",
       "      <td>Darkness - lights lit</td>\n",
       "      <td>Kensington and Chelsea</td>\n",
       "      <td>-0.192487</td>\n",
       "      <td>1</td>\n",
       "      <td>2</td>\n",
       "      <td>Dry</td>\n",
       "      <td>NaN</td>\n",
       "      <td>Urban</td>\n",
       "      <td>NaN</td>\n",
       "      <td>Other vehicle</td>\n",
       "    </tr>\n",
       "    <tr>\n",
       "      <th>...</th>\n",
       "      <td>...</td>\n",
       "      <td>...</td>\n",
       "      <td>...</td>\n",
       "      <td>...</td>\n",
       "      <td>...</td>\n",
       "      <td>...</td>\n",
       "      <td>...</td>\n",
       "      <td>...</td>\n",
       "      <td>...</td>\n",
       "      <td>...</td>\n",
       "      <td>...</td>\n",
       "      <td>...</td>\n",
       "      <td>...</td>\n",
       "      <td>...</td>\n",
       "    </tr>\n",
       "    <tr>\n",
       "      <th>660674</th>\n",
       "      <td>201091NM01760</td>\n",
       "      <td>Slight</td>\n",
       "      <td>18-02-2022</td>\n",
       "      <td>57.374005</td>\n",
       "      <td>Daylight</td>\n",
       "      <td>Highland</td>\n",
       "      <td>-3.467828</td>\n",
       "      <td>2</td>\n",
       "      <td>1</td>\n",
       "      <td>Dry</td>\n",
       "      <td>Single carriageway</td>\n",
       "      <td>Rural</td>\n",
       "      <td>Fine no high winds</td>\n",
       "      <td>Car</td>\n",
       "    </tr>\n",
       "    <tr>\n",
       "      <th>660675</th>\n",
       "      <td>201091NM01881</td>\n",
       "      <td>Slight</td>\n",
       "      <td>21-02-2022</td>\n",
       "      <td>57.232273</td>\n",
       "      <td>Darkness - no lighting</td>\n",
       "      <td>Highland</td>\n",
       "      <td>-3.809281</td>\n",
       "      <td>1</td>\n",
       "      <td>1</td>\n",
       "      <td>Frost or ice</td>\n",
       "      <td>Single carriageway</td>\n",
       "      <td>Rural</td>\n",
       "      <td>Fine no high winds</td>\n",
       "      <td>Car</td>\n",
       "    </tr>\n",
       "    <tr>\n",
       "      <th>660676</th>\n",
       "      <td>201091NM01935</td>\n",
       "      <td>Slight</td>\n",
       "      <td>23-02-2022</td>\n",
       "      <td>57.585044</td>\n",
       "      <td>Daylight</td>\n",
       "      <td>Highland</td>\n",
       "      <td>-3.862727</td>\n",
       "      <td>1</td>\n",
       "      <td>3</td>\n",
       "      <td>Frost or ice</td>\n",
       "      <td>Single carriageway</td>\n",
       "      <td>Rural</td>\n",
       "      <td>Fine no high winds</td>\n",
       "      <td>Car</td>\n",
       "    </tr>\n",
       "    <tr>\n",
       "      <th>660677</th>\n",
       "      <td>201091NM01964</td>\n",
       "      <td>Serious</td>\n",
       "      <td>23-02-2022</td>\n",
       "      <td>57.214898</td>\n",
       "      <td>Darkness - no lighting</td>\n",
       "      <td>Highland</td>\n",
       "      <td>-3.823997</td>\n",
       "      <td>1</td>\n",
       "      <td>2</td>\n",
       "      <td>Wet or damp</td>\n",
       "      <td>Single carriageway</td>\n",
       "      <td>Rural</td>\n",
       "      <td>Fine no high winds</td>\n",
       "      <td>Motorcycle over 500cc</td>\n",
       "    </tr>\n",
       "    <tr>\n",
       "      <th>660678</th>\n",
       "      <td>201091NM02142</td>\n",
       "      <td>Serious</td>\n",
       "      <td>28-02-2022</td>\n",
       "      <td>57.575210</td>\n",
       "      <td>Daylight</td>\n",
       "      <td>Highland</td>\n",
       "      <td>-3.895673</td>\n",
       "      <td>1</td>\n",
       "      <td>1</td>\n",
       "      <td>Wet or damp</td>\n",
       "      <td>Dual carriageway</td>\n",
       "      <td>Rural</td>\n",
       "      <td>Snowing no high winds</td>\n",
       "      <td>Car</td>\n",
       "    </tr>\n",
       "  </tbody>\n",
       "</table>\n",
       "<p>660679 rows × 14 columns</p>\n",
       "</div>"
      ],
      "text/plain": [
       "                Index Accident_Severity Accident Date   Latitude  \\\n",
       "0       200701BS64157           Serious      5/6/2019  51.506187   \n",
       "1       200701BS65737           Serious      2/7/2019  51.495029   \n",
       "2       200701BS66127           Serious    26-08-2019  51.517715   \n",
       "3       200701BS66128           Serious    16-08-2019  51.495478   \n",
       "4       200701BS66837            Slight      3/9/2019  51.488576   \n",
       "...               ...               ...           ...        ...   \n",
       "660674  201091NM01760            Slight    18-02-2022  57.374005   \n",
       "660675  201091NM01881            Slight    21-02-2022  57.232273   \n",
       "660676  201091NM01935            Slight    23-02-2022  57.585044   \n",
       "660677  201091NM01964           Serious    23-02-2022  57.214898   \n",
       "660678  201091NM02142           Serious    28-02-2022  57.575210   \n",
       "\n",
       "                   Light_Conditions           District Area  Longitude  \\\n",
       "0             Darkness - lights lit  Kensington and Chelsea  -0.209082   \n",
       "1                          Daylight  Kensington and Chelsea  -0.173647   \n",
       "2       Darkness - lighting unknown  Kensington and Chelsea  -0.210215   \n",
       "3                          Daylight  Kensington and Chelsea  -0.202731   \n",
       "4             Darkness - lights lit  Kensington and Chelsea  -0.192487   \n",
       "...                             ...                     ...        ...   \n",
       "660674                     Daylight                Highland  -3.467828   \n",
       "660675       Darkness - no lighting                Highland  -3.809281   \n",
       "660676                     Daylight                Highland  -3.862727   \n",
       "660677       Darkness - no lighting                Highland  -3.823997   \n",
       "660678                     Daylight                Highland  -3.895673   \n",
       "\n",
       "        Number_of_Casualties  Number_of_Vehicles Road_Surface_Conditions  \\\n",
       "0                          1                   2                     Dry   \n",
       "1                          1                   2             Wet or damp   \n",
       "2                          1                   3                     Dry   \n",
       "3                          1                   4                     Dry   \n",
       "4                          1                   2                     Dry   \n",
       "...                      ...                 ...                     ...   \n",
       "660674                     2                   1                     Dry   \n",
       "660675                     1                   1            Frost or ice   \n",
       "660676                     1                   3            Frost or ice   \n",
       "660677                     1                   2             Wet or damp   \n",
       "660678                     1                   1             Wet or damp   \n",
       "\n",
       "                 Road_Type Urban_or_Rural_Area     Weather_Conditions  \\\n",
       "0       Single carriageway               Urban     Fine no high winds   \n",
       "1       Single carriageway               Urban  Raining no high winds   \n",
       "2                      NaN               Urban                    NaN   \n",
       "3       Single carriageway               Urban     Fine no high winds   \n",
       "4                      NaN               Urban                    NaN   \n",
       "...                    ...                 ...                    ...   \n",
       "660674  Single carriageway               Rural     Fine no high winds   \n",
       "660675  Single carriageway               Rural     Fine no high winds   \n",
       "660676  Single carriageway               Rural     Fine no high winds   \n",
       "660677  Single carriageway               Rural     Fine no high winds   \n",
       "660678    Dual carriageway               Rural  Snowing no high winds   \n",
       "\n",
       "                                Vehicle_Type  \n",
       "0                                        Car  \n",
       "1                                        Car  \n",
       "2                      Taxi/Private hire car  \n",
       "3       Bus or coach (17 or more pass seats)  \n",
       "4                              Other vehicle  \n",
       "...                                      ...  \n",
       "660674                                   Car  \n",
       "660675                                   Car  \n",
       "660676                                   Car  \n",
       "660677                 Motorcycle over 500cc  \n",
       "660678                                   Car  \n",
       "\n",
       "[660679 rows x 14 columns]"
      ]
     },
     "execution_count": 2,
     "metadata": {},
     "output_type": "execute_result"
    }
   ],
   "source": [
    "uk_road_accident = pd.read_csv('datasets\\\\uk_road_accident.csv')\n",
    "uk_road_accident"
   ]
  },
  {
   "cell_type": "code",
   "execution_count": 3,
   "id": "9857cf7d-3802-46b3-8171-2a865def64dd",
   "metadata": {},
   "outputs": [
    {
     "name": "stdout",
     "output_type": "stream",
     "text": [
      "<class 'pandas.core.frame.DataFrame'>\n",
      "RangeIndex: 660679 entries, 0 to 660678\n",
      "Data columns (total 14 columns):\n",
      " #   Column                   Non-Null Count   Dtype  \n",
      "---  ------                   --------------   -----  \n",
      " 0   Index                    660679 non-null  object \n",
      " 1   Accident_Severity        660679 non-null  object \n",
      " 2   Accident Date            660679 non-null  object \n",
      " 3   Latitude                 660654 non-null  float64\n",
      " 4   Light_Conditions         660679 non-null  object \n",
      " 5   District Area            660679 non-null  object \n",
      " 6   Longitude                660653 non-null  float64\n",
      " 7   Number_of_Casualties     660679 non-null  int64  \n",
      " 8   Number_of_Vehicles       660679 non-null  int64  \n",
      " 9   Road_Surface_Conditions  659953 non-null  object \n",
      " 10  Road_Type                656159 non-null  object \n",
      " 11  Urban_or_Rural_Area      660664 non-null  object \n",
      " 12  Weather_Conditions       646551 non-null  object \n",
      " 13  Vehicle_Type             660679 non-null  object \n",
      "dtypes: float64(2), int64(2), object(10)\n",
      "memory usage: 70.6+ MB\n"
     ]
    }
   ],
   "source": [
    "uk_road_accident.info()"
   ]
  },
  {
   "cell_type": "code",
   "execution_count": 4,
   "id": "1a213d8a-693b-474b-a749-479494ebf97d",
   "metadata": {},
   "outputs": [
    {
     "data": {
      "text/html": [
       "<div>\n",
       "<style scoped>\n",
       "    .dataframe tbody tr th:only-of-type {\n",
       "        vertical-align: middle;\n",
       "    }\n",
       "\n",
       "    .dataframe tbody tr th {\n",
       "        vertical-align: top;\n",
       "    }\n",
       "\n",
       "    .dataframe thead th {\n",
       "        text-align: right;\n",
       "    }\n",
       "</style>\n",
       "<table border=\"1\" class=\"dataframe\">\n",
       "  <thead>\n",
       "    <tr style=\"text-align: right;\">\n",
       "      <th></th>\n",
       "      <th>count</th>\n",
       "      <th>mean</th>\n",
       "      <th>std</th>\n",
       "      <th>min</th>\n",
       "      <th>25%</th>\n",
       "      <th>50%</th>\n",
       "      <th>75%</th>\n",
       "      <th>max</th>\n",
       "    </tr>\n",
       "  </thead>\n",
       "  <tbody>\n",
       "    <tr>\n",
       "      <th>Latitude</th>\n",
       "      <td>660654.0</td>\n",
       "      <td>52.553866</td>\n",
       "      <td>1.406922</td>\n",
       "      <td>49.914430</td>\n",
       "      <td>51.490690</td>\n",
       "      <td>52.315641</td>\n",
       "      <td>53.453452</td>\n",
       "      <td>60.757544</td>\n",
       "    </tr>\n",
       "    <tr>\n",
       "      <th>Longitude</th>\n",
       "      <td>660653.0</td>\n",
       "      <td>-1.431210</td>\n",
       "      <td>1.383330</td>\n",
       "      <td>-7.516225</td>\n",
       "      <td>-2.332291</td>\n",
       "      <td>-1.411667</td>\n",
       "      <td>-0.232869</td>\n",
       "      <td>1.762010</td>\n",
       "    </tr>\n",
       "    <tr>\n",
       "      <th>Number_of_Casualties</th>\n",
       "      <td>660679.0</td>\n",
       "      <td>1.357040</td>\n",
       "      <td>0.824847</td>\n",
       "      <td>1.000000</td>\n",
       "      <td>1.000000</td>\n",
       "      <td>1.000000</td>\n",
       "      <td>1.000000</td>\n",
       "      <td>68.000000</td>\n",
       "    </tr>\n",
       "    <tr>\n",
       "      <th>Number_of_Vehicles</th>\n",
       "      <td>660679.0</td>\n",
       "      <td>1.831255</td>\n",
       "      <td>0.715269</td>\n",
       "      <td>1.000000</td>\n",
       "      <td>1.000000</td>\n",
       "      <td>2.000000</td>\n",
       "      <td>2.000000</td>\n",
       "      <td>32.000000</td>\n",
       "    </tr>\n",
       "  </tbody>\n",
       "</table>\n",
       "</div>"
      ],
      "text/plain": [
       "                         count       mean       std        min        25%  \\\n",
       "Latitude              660654.0  52.553866  1.406922  49.914430  51.490690   \n",
       "Longitude             660653.0  -1.431210  1.383330  -7.516225  -2.332291   \n",
       "Number_of_Casualties  660679.0   1.357040  0.824847   1.000000   1.000000   \n",
       "Number_of_Vehicles    660679.0   1.831255  0.715269   1.000000   1.000000   \n",
       "\n",
       "                            50%        75%        max  \n",
       "Latitude              52.315641  53.453452  60.757544  \n",
       "Longitude             -1.411667  -0.232869   1.762010  \n",
       "Number_of_Casualties   1.000000   1.000000  68.000000  \n",
       "Number_of_Vehicles     2.000000   2.000000  32.000000  "
      ]
     },
     "execution_count": 4,
     "metadata": {},
     "output_type": "execute_result"
    }
   ],
   "source": [
    "uk_road_accident.describe().T"
   ]
  },
  {
   "cell_type": "markdown",
   "id": "f8b2ee45-fd9c-40f6-8ddc-01756f80496e",
   "metadata": {},
   "source": [
    "<h2>Checking Null Values</h2>"
   ]
  },
  {
   "cell_type": "code",
   "execution_count": 5,
   "id": "a361e4da-6898-4878-85c2-cd56c0886669",
   "metadata": {},
   "outputs": [
    {
     "data": {
      "text/plain": [
       "Index                          0\n",
       "Accident_Severity              0\n",
       "Accident Date                  0\n",
       "Latitude                      25\n",
       "Light_Conditions               0\n",
       "District Area                  0\n",
       "Longitude                     26\n",
       "Number_of_Casualties           0\n",
       "Number_of_Vehicles             0\n",
       "Road_Surface_Conditions      726\n",
       "Road_Type                   4520\n",
       "Urban_or_Rural_Area           15\n",
       "Weather_Conditions         14128\n",
       "Vehicle_Type                   0\n",
       "dtype: int64"
      ]
     },
     "execution_count": 5,
     "metadata": {},
     "output_type": "execute_result"
    }
   ],
   "source": [
    "uk_road_accident.isnull().sum()"
   ]
  },
  {
   "cell_type": "markdown",
   "id": "ae0e8fe8-8648-44da-85d6-8a96d6a5f5d6",
   "metadata": {},
   "source": [
    "<h2>Cleaning the Data Frame</h2>"
   ]
  },
  {
   "cell_type": "code",
   "execution_count": 6,
   "id": "7b2c822e-1883-464c-844a-001bf38074ec",
   "metadata": {
    "scrolled": true
   },
   "outputs": [
    {
     "data": {
      "text/plain": [
       "Index                          0\n",
       "Accident_Severity              0\n",
       "Accident Date                  0\n",
       "Latitude                       0\n",
       "Light_Conditions               0\n",
       "District Area                  0\n",
       "Longitude                     26\n",
       "Number_of_Casualties           0\n",
       "Number_of_Vehicles             0\n",
       "Road_Surface_Conditions      726\n",
       "Road_Type                   4520\n",
       "Urban_or_Rural_Area           15\n",
       "Weather_Conditions         14128\n",
       "Vehicle_Type                   0\n",
       "dtype: int64"
      ]
     },
     "execution_count": 6,
     "metadata": {},
     "output_type": "execute_result"
    }
   ],
   "source": [
    "uk_road_accident['Latitude'] = uk_road_accident['Latitude'].fillna(uk_road_accident['Latitude'].mean())\n",
    "uk_road_accident.isnull().sum()"
   ]
  },
  {
   "cell_type": "code",
   "execution_count": 7,
   "id": "405857d3-75d0-4c49-86c5-4e4a0d63d4d8",
   "metadata": {
    "jupyter": {
     "source_hidden": true
    }
   },
   "outputs": [
    {
     "data": {
      "text/plain": [
       "Index                          0\n",
       "Accident_Severity              0\n",
       "Accident Date                  0\n",
       "Latitude                       0\n",
       "Light_Conditions               0\n",
       "District Area                  0\n",
       "Longitude                      0\n",
       "Number_of_Casualties           0\n",
       "Number_of_Vehicles             0\n",
       "Road_Surface_Conditions      726\n",
       "Road_Type                   4520\n",
       "Urban_or_Rural_Area           15\n",
       "Weather_Conditions         14128\n",
       "Vehicle_Type                   0\n",
       "dtype: int64"
      ]
     },
     "execution_count": 7,
     "metadata": {},
     "output_type": "execute_result"
    }
   ],
   "source": [
    "uk_road_accident['Longitude'] = uk_road_accident['Longitude'].fillna(uk_road_accident['Longitude'].mean())\n",
    "uk_road_accident.isnull().sum()"
   ]
  },
  {
   "cell_type": "code",
   "execution_count": 8,
   "id": "06d0a83a-8ee5-4374-ae83-38322cf71a59",
   "metadata": {},
   "outputs": [
    {
     "data": {
      "text/plain": [
       "0    Dry\n",
       "Name: Road_Surface_Conditions, dtype: object"
      ]
     },
     "execution_count": 8,
     "metadata": {},
     "output_type": "execute_result"
    }
   ],
   "source": [
    "uk_road_accident['Road_Surface_Conditions'].mode()"
   ]
  },
  {
   "cell_type": "code",
   "execution_count": 9,
   "id": "7a3a98b7-9234-4b9d-9602-11a2bed228d8",
   "metadata": {},
   "outputs": [
    {
     "data": {
      "text/plain": [
       "Index                          0\n",
       "Accident_Severity              0\n",
       "Accident Date                  0\n",
       "Latitude                       0\n",
       "Light_Conditions               0\n",
       "District Area                  0\n",
       "Longitude                      0\n",
       "Number_of_Casualties           0\n",
       "Number_of_Vehicles             0\n",
       "Road_Surface_Conditions        0\n",
       "Road_Type                   4520\n",
       "Urban_or_Rural_Area           15\n",
       "Weather_Conditions         14128\n",
       "Vehicle_Type                   0\n",
       "dtype: int64"
      ]
     },
     "execution_count": 9,
     "metadata": {},
     "output_type": "execute_result"
    }
   ],
   "source": [
    "uk_road_accident['Road_Surface_Conditions'] = uk_road_accident['Road_Surface_Conditions'].fillna(uk_road_accident['Road_Surface_Conditions'].mode()[0])\n",
    "uk_road_accident.isnull().sum()"
   ]
  },
  {
   "cell_type": "code",
   "execution_count": 10,
   "id": "2ccf0384-c534-4aa8-a607-011442a3ce29",
   "metadata": {},
   "outputs": [
    {
     "data": {
      "text/plain": [
       "0    Single carriageway\n",
       "Name: Road_Type, dtype: object"
      ]
     },
     "execution_count": 10,
     "metadata": {},
     "output_type": "execute_result"
    }
   ],
   "source": [
    "uk_road_accident['Road_Type'].mode()"
   ]
  },
  {
   "cell_type": "code",
   "execution_count": 11,
   "id": "69c942eb-ee0a-4631-8fd2-ac796be12468",
   "metadata": {},
   "outputs": [
    {
     "data": {
      "text/plain": [
       "Index                          0\n",
       "Accident_Severity              0\n",
       "Accident Date                  0\n",
       "Latitude                       0\n",
       "Light_Conditions               0\n",
       "District Area                  0\n",
       "Longitude                      0\n",
       "Number_of_Casualties           0\n",
       "Number_of_Vehicles             0\n",
       "Road_Surface_Conditions        0\n",
       "Road_Type                      0\n",
       "Urban_or_Rural_Area           15\n",
       "Weather_Conditions         14128\n",
       "Vehicle_Type                   0\n",
       "dtype: int64"
      ]
     },
     "execution_count": 11,
     "metadata": {},
     "output_type": "execute_result"
    }
   ],
   "source": [
    "uk_road_accident['Road_Type'] = uk_road_accident['Road_Type'].fillna(uk_road_accident['Road_Type'].mode()[0])\n",
    "uk_road_accident.isnull().sum()"
   ]
  },
  {
   "cell_type": "code",
   "execution_count": 12,
   "id": "6726a07e-f20b-4865-afa2-4e151015f9ae",
   "metadata": {},
   "outputs": [
    {
     "data": {
      "text/plain": [
       "0    Urban\n",
       "Name: Urban_or_Rural_Area, dtype: object"
      ]
     },
     "execution_count": 12,
     "metadata": {},
     "output_type": "execute_result"
    }
   ],
   "source": [
    "uk_road_accident['Urban_or_Rural_Area'].mode()"
   ]
  },
  {
   "cell_type": "code",
   "execution_count": 13,
   "id": "7b05b47f-7ae1-4d6c-8281-48b397709ce2",
   "metadata": {},
   "outputs": [
    {
     "data": {
      "text/plain": [
       "Index                          0\n",
       "Accident_Severity              0\n",
       "Accident Date                  0\n",
       "Latitude                       0\n",
       "Light_Conditions               0\n",
       "District Area                  0\n",
       "Longitude                      0\n",
       "Number_of_Casualties           0\n",
       "Number_of_Vehicles             0\n",
       "Road_Surface_Conditions        0\n",
       "Road_Type                      0\n",
       "Urban_or_Rural_Area            0\n",
       "Weather_Conditions         14128\n",
       "Vehicle_Type                   0\n",
       "dtype: int64"
      ]
     },
     "execution_count": 13,
     "metadata": {},
     "output_type": "execute_result"
    }
   ],
   "source": [
    "uk_road_accident['Urban_or_Rural_Area'] = uk_road_accident['Urban_or_Rural_Area'].fillna(uk_road_accident['Urban_or_Rural_Area'].mode()[0])\n",
    "uk_road_accident.isnull().sum()"
   ]
  },
  {
   "cell_type": "code",
   "execution_count": 14,
   "id": "9a2d7494-0cac-4b0e-8187-245058ff15fc",
   "metadata": {},
   "outputs": [
    {
     "data": {
      "text/plain": [
       "0    Fine no high winds\n",
       "Name: Weather_Conditions, dtype: object"
      ]
     },
     "execution_count": 14,
     "metadata": {},
     "output_type": "execute_result"
    }
   ],
   "source": [
    "uk_road_accident['Weather_Conditions'].mode()"
   ]
  },
  {
   "cell_type": "code",
   "execution_count": 15,
   "id": "ae653614-3dc8-4f07-8f36-ada19d25fd66",
   "metadata": {},
   "outputs": [
    {
     "data": {
      "text/plain": [
       "Index                      0\n",
       "Accident_Severity          0\n",
       "Accident Date              0\n",
       "Latitude                   0\n",
       "Light_Conditions           0\n",
       "District Area              0\n",
       "Longitude                  0\n",
       "Number_of_Casualties       0\n",
       "Number_of_Vehicles         0\n",
       "Road_Surface_Conditions    0\n",
       "Road_Type                  0\n",
       "Urban_or_Rural_Area        0\n",
       "Weather_Conditions         0\n",
       "Vehicle_Type               0\n",
       "dtype: int64"
      ]
     },
     "execution_count": 15,
     "metadata": {},
     "output_type": "execute_result"
    }
   ],
   "source": [
    "uk_road_accident['Weather_Conditions'] = uk_road_accident['Weather_Conditions'].fillna(uk_road_accident['Weather_Conditions'].mode()[0])\n",
    "uk_road_accident.isnull().sum()"
   ]
  },
  {
   "cell_type": "markdown",
   "id": "ff872761-9438-47e4-99ae-b9b43b350e0f",
   "metadata": {},
   "source": [
    "<h2>Checking the Data Types</h2>"
   ]
  },
  {
   "cell_type": "code",
   "execution_count": 16,
   "id": "7fe26f0f-a4ae-4883-867d-9d24061b0a88",
   "metadata": {},
   "outputs": [
    {
     "data": {
      "text/plain": [
       "Index                       object\n",
       "Accident_Severity           object\n",
       "Accident Date               object\n",
       "Latitude                   float64\n",
       "Light_Conditions            object\n",
       "District Area               object\n",
       "Longitude                  float64\n",
       "Number_of_Casualties         int64\n",
       "Number_of_Vehicles           int64\n",
       "Road_Surface_Conditions     object\n",
       "Road_Type                   object\n",
       "Urban_or_Rural_Area         object\n",
       "Weather_Conditions          object\n",
       "Vehicle_Type                object\n",
       "dtype: object"
      ]
     },
     "execution_count": 16,
     "metadata": {},
     "output_type": "execute_result"
    }
   ],
   "source": [
    "uk_road_accident.dtypes"
   ]
  },
  {
   "cell_type": "code",
   "execution_count": 17,
   "id": "150fdcdc-e2e6-4bbc-a191-24ca9a98d0ee",
   "metadata": {},
   "outputs": [
    {
     "data": {
      "text/plain": [
       "Index                       object\n",
       "Accident_Severity           object\n",
       "Accident Date               object\n",
       "Latitude                   float64\n",
       "Light_Conditions            object\n",
       "District Area               object\n",
       "Longitude                  float64\n",
       "Number_of_Casualties         int64\n",
       "Number_of_Vehicles           int64\n",
       "Road_Surface_Conditions     object\n",
       "Road_Type                   object\n",
       "Urban_or_Rural_Area         object\n",
       "Weather_Conditions          object\n",
       "Vehicle_Type                object\n",
       "dtype: object"
      ]
     },
     "execution_count": 17,
     "metadata": {},
     "output_type": "execute_result"
    }
   ],
   "source": [
    "uk_road_accident['Urban_or_Rural_Area'] = uk_road_accident['Urban_or_Rural_Area'].astype('object')\n",
    "uk_road_accident.dtypes"
   ]
  },
  {
   "cell_type": "markdown",
   "id": "feb27174-70ca-44b7-9ee0-88b03fc2c884",
   "metadata": {},
   "source": [
    "<h2>Changing the Data Types</h2>"
   ]
  },
  {
   "cell_type": "code",
   "execution_count": 18,
   "id": "ae02a890-062b-40b3-bd28-b16a510149b0",
   "metadata": {},
   "outputs": [
    {
     "data": {
      "text/plain": [
       "Index                      category\n",
       "Accident_Severity          category\n",
       "Accident Date              category\n",
       "Latitude                    float64\n",
       "Light_Conditions           category\n",
       "District Area              category\n",
       "Longitude                   float64\n",
       "Number_of_Casualties          int64\n",
       "Number_of_Vehicles            int64\n",
       "Road_Surface_Conditions    category\n",
       "Road_Type                  category\n",
       "Urban_or_Rural_Area        category\n",
       "Weather_Conditions         category\n",
       "Vehicle_Type               category\n",
       "dtype: object"
      ]
     },
     "execution_count": 18,
     "metadata": {},
     "output_type": "execute_result"
    }
   ],
   "source": [
    "uk_road_accident['Index'] = uk_road_accident['Index'].astype('category')\n",
    "uk_road_accident['Accident_Severity'] = uk_road_accident['Accident_Severity'].astype('category')\n",
    "uk_road_accident['Accident Date'] = uk_road_accident['Accident Date'].astype('category')\n",
    "uk_road_accident['Light_Conditions'] = uk_road_accident['Light_Conditions'].astype('category')\n",
    "uk_road_accident['District Area'] = uk_road_accident['District Area'].astype('category')\n",
    "uk_road_accident['Road_Surface_Conditions'] = uk_road_accident['Road_Surface_Conditions'].astype('category')\n",
    "uk_road_accident['Road_Type'] = uk_road_accident['Road_Type'].astype('category')\n",
    "uk_road_accident['Urban_or_Rural_Area'] = uk_road_accident['Urban_or_Rural_Area'].astype('category')\n",
    "uk_road_accident['Weather_Conditions'] = uk_road_accident['Weather_Conditions'].astype('category')\n",
    "uk_road_accident['Vehicle_Type'] = uk_road_accident['Vehicle_Type'].astype('category')\n",
    "uk_road_accident.dtypes"
   ]
  },
  {
   "cell_type": "markdown",
   "id": "a4dcbd3d-0f76-4c52-ad18-cba472bc8d20",
   "metadata": {},
   "source": [
    "<h1 style=\"color:red;\">Explanatory Data Analytics (EDA)</h1>"
   ]
  },
  {
   "cell_type": "markdown",
   "id": "30353a9a-a0d5-478e-8e2a-8b672a7d029c",
   "metadata": {},
   "source": [
    "Make 20 Questions\n",
    "\n",
    "1. Which type of vehicle encounter most accidents?\n",
    "2. Which type of weather condtions does accident mostly occur?\n",
    "3. Does accidents commonly happen in Urban areas or in Rural areas?\n",
    "4. Which type of road does accidents commonly happen?\n",
    "5. Which road surface conditions does accident mostly happen?\n",
    "6. which type of vehicle does have the least recorded serious accident severity?\n",
    "7. Which light conditions contributes the most serious accidents?\n",
    "8. Which district area does most accidents happen?\n",
    "9. How many serious accidents happen in Birmingham District\n",
    "10. What type of vehicle contribute the most in accidents in Birmingham?\n",
    "11. What weather conditions does accidents happen in Clackmannanshire?\n",
    "12. How many fatal accidents happen in Clackmannanshire District?\n",
    "13. What weather conditions does accidents happen in Clackmannanshire?\n",
    "14. What type of weather conditions does least amount car accidents happen?\n",
    "15. How many casualties happen in Bermingham?\n",
    "16. Which type of road surface conditions does accidents happen in Birmingham?\n",
    "17. Which type of road surface conditions does accidents happen in Clackmannanshire?\n",
    "18. Which type of road surface conditions does accidents most happen in Birmingham District?\n",
    "19. Which type of road does accidents most happen Cars?\n",
    "20. Which type of road surface conditions does accidents most happen Cars?"
   ]
  },
  {
   "cell_type": "markdown",
   "id": "a5c49d88-3722-4501-b75b-70c6f56b05bf",
   "metadata": {},
   "source": [
    "<h2>1. Which type of vehicle is involved in the highest number of accidents?</h2>"
   ]
  },
  {
   "cell_type": "code",
   "execution_count": 19,
   "id": "5e4e8bc6-7167-4425-9d14-358274074189",
   "metadata": {},
   "outputs": [
    {
     "data": {
      "text/plain": [
       "Index                      category\n",
       "Accident_Severity          category\n",
       "Accident Date              category\n",
       "Latitude                    float64\n",
       "Light_Conditions           category\n",
       "District Area              category\n",
       "Longitude                   float64\n",
       "Number_of_Casualties          int64\n",
       "Number_of_Vehicles            int64\n",
       "Road_Surface_Conditions    category\n",
       "Road_Type                  category\n",
       "Urban_or_Rural_Area        category\n",
       "Weather_Conditions         category\n",
       "Vehicle_Type               category\n",
       "dtype: object"
      ]
     },
     "execution_count": 19,
     "metadata": {},
     "output_type": "execute_result"
    }
   ],
   "source": [
    "uk_road_accident.dtypes"
   ]
  },
  {
   "cell_type": "code",
   "execution_count": 20,
   "id": "ee42ce6a-ca7e-48cb-9b75-c5f2228daf54",
   "metadata": {},
   "outputs": [
    {
     "data": {
      "text/plain": [
       "Vehicle_Type\n",
       "Car                                      497992\n",
       "Van / Goods 3.5 tonnes mgw or under       34160\n",
       "Bus or coach (17 or more pass seats)      25878\n",
       "Motorcycle over 500cc                     25657\n",
       "Goods 7.5 tonnes mgw and over             17307\n",
       "Motorcycle 125cc and under                15269\n",
       "Taxi/Private hire car                     13294\n",
       "Motorcycle over 125cc and up to 500cc      7656\n",
       "Motorcycle 50cc and under                  7603\n",
       "Goods over 3.5t. and under 7.5t            6096\n",
       "Other vehicle                              5637\n",
       "Minibus (8 - 16 passenger seats)           1976\n",
       "Agricultural vehicle                       1947\n",
       "Pedal cycle                                 197\n",
       "Data missing or out of range                  6\n",
       "Ridden horse                                  4\n",
       "Name: count, dtype: int64"
      ]
     },
     "execution_count": 20,
     "metadata": {},
     "output_type": "execute_result"
    }
   ],
   "source": [
    "vehicle = uk_road_accident['Vehicle_Type'].value_counts()\n",
    "vehicle"
   ]
  },
  {
   "cell_type": "markdown",
   "id": "aeca3aac-1669-49ed-b1f1-139e6c955b5e",
   "metadata": {},
   "source": [
    "INSIGHTS : Cars are the most frequently involved vehicles, with 497,992 recorded accidents."
   ]
  },
  {
   "cell_type": "markdown",
   "id": "2261a501-71c9-4571-8a8e-049889970173",
   "metadata": {},
   "source": [
    "<h2>2. Under what weather conditions do accidents occur most frequently?</h2>"
   ]
  },
  {
   "cell_type": "code",
   "execution_count": 21,
   "id": "6b7acde3-1306-41cd-9427-371868361298",
   "metadata": {},
   "outputs": [
    {
     "data": {
      "text/plain": [
       "Index                      category\n",
       "Accident_Severity          category\n",
       "Accident Date              category\n",
       "Latitude                    float64\n",
       "Light_Conditions           category\n",
       "District Area              category\n",
       "Longitude                   float64\n",
       "Number_of_Casualties          int64\n",
       "Number_of_Vehicles            int64\n",
       "Road_Surface_Conditions    category\n",
       "Road_Type                  category\n",
       "Urban_or_Rural_Area        category\n",
       "Weather_Conditions         category\n",
       "Vehicle_Type               category\n",
       "dtype: object"
      ]
     },
     "execution_count": 21,
     "metadata": {},
     "output_type": "execute_result"
    }
   ],
   "source": [
    "uk_road_accident.dtypes"
   ]
  },
  {
   "cell_type": "code",
   "execution_count": 22,
   "id": "7c2558e7-ecc2-41a7-a964-7f78909eee8b",
   "metadata": {},
   "outputs": [
    {
     "data": {
      "text/plain": [
       "['Fine no high winds', 'Raining no high winds', 'Other', 'Fine + high winds', 'Raining + high winds', 'Snowing no high winds', 'Fog or mist', 'Snowing + high winds']\n",
       "Categories (8, object): ['Fine + high winds', 'Fine no high winds', 'Fog or mist', 'Other', 'Raining + high winds', 'Raining no high winds', 'Snowing + high winds', 'Snowing no high winds']"
      ]
     },
     "execution_count": 22,
     "metadata": {},
     "output_type": "execute_result"
    }
   ],
   "source": [
    "uk_road_accident['Weather_Conditions'].unique()"
   ]
  },
  {
   "cell_type": "code",
   "execution_count": 23,
   "id": "03819f53-7b8e-4cff-b13c-bca846cb0e21",
   "metadata": {},
   "outputs": [
    {
     "data": {
      "text/plain": [
       "Weather_Conditions\n",
       "Fine no high winds       535013\n",
       "Raining no high winds     79696\n",
       "Other                     17150\n",
       "Raining + high winds       9615\n",
       "Fine + high winds          8554\n",
       "Snowing no high winds      6238\n",
       "Fog or mist                3528\n",
       "Snowing + high winds        885\n",
       "Name: count, dtype: int64"
      ]
     },
     "execution_count": 23,
     "metadata": {},
     "output_type": "execute_result"
    }
   ],
   "source": [
    "weather = uk_road_accident['Weather_Conditions'].value_counts()\n",
    "weather"
   ]
  },
  {
   "cell_type": "markdown",
   "id": "ee8bd946-dc07-414e-8ca1-048c8c38bdf3",
   "metadata": {},
   "source": [
    "INSIGHTS : The majority of accidents happen during fine weather with no strong winds (535,013 accidents). This indicates that most accidents are not caused by adverse weather, but by other factors such as driver behavior."
   ]
  },
  {
   "cell_type": "markdown",
   "id": "1203d11e-be87-419b-9ef8-1097b6d2b37f",
   "metadata": {},
   "source": [
    "<h2>3. Are accidents more common in urban areas or rural areas?</h2>"
   ]
  },
  {
   "cell_type": "code",
   "execution_count": 24,
   "id": "6fdf200c-21a4-4567-ae7f-7039f31e2d31",
   "metadata": {},
   "outputs": [
    {
     "data": {
      "text/plain": [
       "Index                      category\n",
       "Accident_Severity          category\n",
       "Accident Date              category\n",
       "Latitude                    float64\n",
       "Light_Conditions           category\n",
       "District Area              category\n",
       "Longitude                   float64\n",
       "Number_of_Casualties          int64\n",
       "Number_of_Vehicles            int64\n",
       "Road_Surface_Conditions    category\n",
       "Road_Type                  category\n",
       "Urban_or_Rural_Area        category\n",
       "Weather_Conditions         category\n",
       "Vehicle_Type               category\n",
       "dtype: object"
      ]
     },
     "execution_count": 24,
     "metadata": {},
     "output_type": "execute_result"
    }
   ],
   "source": [
    "uk_road_accident.dtypes"
   ]
  },
  {
   "cell_type": "code",
   "execution_count": 25,
   "id": "0e606d62-c6fa-4210-8fba-16ba3e0e9eba",
   "metadata": {},
   "outputs": [
    {
     "data": {
      "text/plain": [
       "['Urban', 'Rural', 'Unallocated']\n",
       "Categories (3, object): ['Rural', 'Unallocated', 'Urban']"
      ]
     },
     "execution_count": 25,
     "metadata": {},
     "output_type": "execute_result"
    }
   ],
   "source": [
    "uk_road_accident['Urban_or_Rural_Area'].unique()"
   ]
  },
  {
   "cell_type": "code",
   "execution_count": 26,
   "id": "2fa9c285-6086-4f60-ba97-458d863fd8e5",
   "metadata": {},
   "outputs": [
    {
     "data": {
      "text/plain": [
       "Urban_or_Rural_Area\n",
       "Urban          421678\n",
       "Rural          238990\n",
       "Unallocated        11\n",
       "Name: count, dtype: int64"
      ]
     },
     "execution_count": 26,
     "metadata": {},
     "output_type": "execute_result"
    }
   ],
   "source": [
    "accidents = uk_road_accident['Urban_or_Rural_Area'].value_counts()\n",
    "accidents"
   ]
  },
  {
   "cell_type": "markdown",
   "id": "e32c0856-221a-4661-8f61-a7c1f737967e",
   "metadata": {},
   "source": [
    "INSIGHTS : Accidents are more common in urban areas (421,678 accidents). This may be due to higher traffic density and more complex road systems in cities."
   ]
  },
  {
   "cell_type": "markdown",
   "id": "076b1fc3-265f-4903-9ce4-e1104eb01fe7",
   "metadata": {},
   "source": [
    "<h2>4. On which type of road do accidents most often occur?</h2>"
   ]
  },
  {
   "cell_type": "code",
   "execution_count": 27,
   "id": "b8046f49-283f-416b-9b09-74d893c14b0c",
   "metadata": {},
   "outputs": [
    {
     "data": {
      "text/plain": [
       "Index                      category\n",
       "Accident_Severity          category\n",
       "Accident Date              category\n",
       "Latitude                    float64\n",
       "Light_Conditions           category\n",
       "District Area              category\n",
       "Longitude                   float64\n",
       "Number_of_Casualties          int64\n",
       "Number_of_Vehicles            int64\n",
       "Road_Surface_Conditions    category\n",
       "Road_Type                  category\n",
       "Urban_or_Rural_Area        category\n",
       "Weather_Conditions         category\n",
       "Vehicle_Type               category\n",
       "dtype: object"
      ]
     },
     "execution_count": 27,
     "metadata": {},
     "output_type": "execute_result"
    }
   ],
   "source": [
    "uk_road_accident.dtypes"
   ]
  },
  {
   "cell_type": "code",
   "execution_count": 28,
   "id": "4e833fd1-ca73-4b68-ba72-282579efaa15",
   "metadata": {},
   "outputs": [
    {
     "data": {
      "text/plain": [
       "['Single carriageway', 'Dual carriageway', 'One way street', 'Roundabout', 'Slip road']\n",
       "Categories (5, object): ['Dual carriageway', 'One way street', 'Roundabout', 'Single carriageway', 'Slip road']"
      ]
     },
     "execution_count": 28,
     "metadata": {},
     "output_type": "execute_result"
    }
   ],
   "source": [
    "uk_road_accident['Road_Type'].unique()"
   ]
  },
  {
   "cell_type": "code",
   "execution_count": 29,
   "id": "93f816c5-bbdd-49db-9299-3c65924ebce9",
   "metadata": {},
   "outputs": [
    {
     "data": {
      "text/plain": [
       "Road_Type\n",
       "Single carriageway    496663\n",
       "Dual carriageway       99424\n",
       "Roundabout             43992\n",
       "One way street         13559\n",
       "Slip road               7041\n",
       "Name: count, dtype: int64"
      ]
     },
     "execution_count": 29,
     "metadata": {},
     "output_type": "execute_result"
    }
   ],
   "source": [
    "road_type = uk_road_accident['Road_Type'].value_counts()\n",
    "road_type"
   ]
  },
  {
   "cell_type": "markdown",
   "id": "317e623c-2c42-470a-937c-9a3af3c33b9b",
   "metadata": {},
   "source": [
    "INSIGHTS : Single carriageways record the highest number of accidents, with 496,663 cases. This could be linked to their heavy use and limited separation of traffic directions."
   ]
  },
  {
   "cell_type": "markdown",
   "id": "ff177ad1-917a-4db8-acea-fce9c63afa4c",
   "metadata": {},
   "source": [
    "<h2>5. Under what road surface conditions do most accidents occur?</h2>"
   ]
  },
  {
   "cell_type": "code",
   "execution_count": 30,
   "id": "dacb9ed5-eecf-49c1-a691-7404875bb8fe",
   "metadata": {},
   "outputs": [
    {
     "data": {
      "text/plain": [
       "Index                      category\n",
       "Accident_Severity          category\n",
       "Accident Date              category\n",
       "Latitude                    float64\n",
       "Light_Conditions           category\n",
       "District Area              category\n",
       "Longitude                   float64\n",
       "Number_of_Casualties          int64\n",
       "Number_of_Vehicles            int64\n",
       "Road_Surface_Conditions    category\n",
       "Road_Type                  category\n",
       "Urban_or_Rural_Area        category\n",
       "Weather_Conditions         category\n",
       "Vehicle_Type               category\n",
       "dtype: object"
      ]
     },
     "execution_count": 30,
     "metadata": {},
     "output_type": "execute_result"
    }
   ],
   "source": [
    "uk_road_accident.dtypes"
   ]
  },
  {
   "cell_type": "code",
   "execution_count": 31,
   "id": "8fee31f1-6c1d-444b-8642-09743d33e41c",
   "metadata": {},
   "outputs": [
    {
     "data": {
      "text/plain": [
       "['Dry', 'Wet or damp', 'Snow', 'Frost or ice', 'Flood over 3cm. deep']\n",
       "Categories (5, object): ['Dry', 'Flood over 3cm. deep', 'Frost or ice', 'Snow', 'Wet or damp']"
      ]
     },
     "execution_count": 31,
     "metadata": {},
     "output_type": "execute_result"
    }
   ],
   "source": [
    "uk_road_accident['Road_Surface_Conditions'].unique()"
   ]
  },
  {
   "cell_type": "code",
   "execution_count": 32,
   "id": "7ad5717e-a716-4317-8a70-bf78916b3b4b",
   "metadata": {},
   "outputs": [
    {
     "data": {
      "text/plain": [
       "Road_Surface_Conditions\n",
       "Dry                     448547\n",
       "Wet or damp             186708\n",
       "Frost or ice             18517\n",
       "Snow                      5890\n",
       "Flood over 3cm. deep      1017\n",
       "Name: count, dtype: int64"
      ]
     },
     "execution_count": 32,
     "metadata": {},
     "output_type": "execute_result"
    }
   ],
   "source": [
    "road_surface = uk_road_accident['Road_Surface_Conditions'].value_counts()\n",
    "road_surface"
   ]
  },
  {
   "cell_type": "markdown",
   "id": "d5491be5-89d7-4de1-9cd9-54205b37d8c0",
   "metadata": {},
   "source": [
    "INSIGHTS : Most accidents happen on dry roads (448,547 accidents). This shows that hazardous conditions like rain or ice are not the main contributors to accident frequency."
   ]
  },
  {
   "cell_type": "markdown",
   "id": "a6b09b9e-3109-4285-92b2-6e33dccad60e",
   "metadata": {},
   "source": [
    "<h2>6. Which type of vehicle records the fewest serious accidents?</h2>"
   ]
  },
  {
   "cell_type": "code",
   "execution_count": 33,
   "id": "3acc982f-0934-47ce-9b9a-c82f52561a32",
   "metadata": {},
   "outputs": [
    {
     "data": {
      "text/plain": [
       "Index                      category\n",
       "Accident_Severity          category\n",
       "Accident Date              category\n",
       "Latitude                    float64\n",
       "Light_Conditions           category\n",
       "District Area              category\n",
       "Longitude                   float64\n",
       "Number_of_Casualties          int64\n",
       "Number_of_Vehicles            int64\n",
       "Road_Surface_Conditions    category\n",
       "Road_Type                  category\n",
       "Urban_or_Rural_Area        category\n",
       "Weather_Conditions         category\n",
       "Vehicle_Type               category\n",
       "dtype: object"
      ]
     },
     "execution_count": 33,
     "metadata": {},
     "output_type": "execute_result"
    }
   ],
   "source": [
    "uk_road_accident.dtypes"
   ]
  },
  {
   "cell_type": "code",
   "execution_count": 34,
   "id": "0cb9e818-8d0f-4597-a2a7-59d4075fef1f",
   "metadata": {},
   "outputs": [
    {
     "data": {
      "text/plain": [
       "['Serious', 'Slight', 'Fatal']\n",
       "Categories (3, object): ['Fatal', 'Serious', 'Slight']"
      ]
     },
     "execution_count": 34,
     "metadata": {},
     "output_type": "execute_result"
    }
   ],
   "source": [
    "uk_road_accident['Accident_Severity'].unique()"
   ]
  },
  {
   "cell_type": "code",
   "execution_count": 35,
   "id": "eadbe2eb-88ce-4426-9927-ba03a1536547",
   "metadata": {},
   "outputs": [
    {
     "data": {
      "text/plain": [
       "Vehicle_Type\n",
       "Agricultural vehicle                       282\n",
       "Bus or coach (17 or more pass seats)      3373\n",
       "Car                                      66461\n",
       "Data missing or out of range                 0\n",
       "Goods 7.5 tonnes mgw and over             2321\n",
       "Goods over 3.5t. and under 7.5t            857\n",
       "Minibus (8 - 16 passenger seats)           276\n",
       "Motorcycle 125cc and under                2031\n",
       "Motorcycle 50cc and under                 1014\n",
       "Motorcycle over 125cc and up to 500cc     1014\n",
       "Motorcycle over 500cc                     3457\n",
       "Other vehicle                              767\n",
       "Pedal cycle                                 39\n",
       "Ridden horse                                 0\n",
       "Taxi/Private hire car                     1771\n",
       "Van / Goods 3.5 tonnes mgw or under       4554\n",
       "dtype: int64"
      ]
     },
     "execution_count": 35,
     "metadata": {},
     "output_type": "execute_result"
    }
   ],
   "source": [
    "serious_road_accidents = uk_road_accident[uk_road_accident['Accident_Severity'] == 'Serious'] #just fileters out the Adelie species\n",
    "\n",
    "types_vehicle = serious_road_accidents.groupby(['Vehicle_Type']).size()\n",
    "types_vehicle"
   ]
  },
  {
   "cell_type": "markdown",
   "id": "8a808397-ccc0-447f-9937-f70321af047f",
   "metadata": {},
   "source": [
    "INSIGHTS : Pedal cycles have the fewest serious accidents, with only 39 recorded cases."
   ]
  },
  {
   "cell_type": "markdown",
   "id": "8f0f7009-37c5-4d2d-89d0-5256e45af66c",
   "metadata": {},
   "source": [
    "<h2>7. What lighting conditions are linked to the fewest serious accidents?</h2>"
   ]
  },
  {
   "cell_type": "code",
   "execution_count": 36,
   "id": "b011a184-1e56-4f07-842c-2d329f8fb020",
   "metadata": {},
   "outputs": [
    {
     "data": {
      "text/plain": [
       "Index                      category\n",
       "Accident_Severity          category\n",
       "Accident Date              category\n",
       "Latitude                    float64\n",
       "Light_Conditions           category\n",
       "District Area              category\n",
       "Longitude                   float64\n",
       "Number_of_Casualties          int64\n",
       "Number_of_Vehicles            int64\n",
       "Road_Surface_Conditions    category\n",
       "Road_Type                  category\n",
       "Urban_or_Rural_Area        category\n",
       "Weather_Conditions         category\n",
       "Vehicle_Type               category\n",
       "dtype: object"
      ]
     },
     "execution_count": 36,
     "metadata": {},
     "output_type": "execute_result"
    }
   ],
   "source": [
    "uk_road_accident.dtypes"
   ]
  },
  {
   "cell_type": "code",
   "execution_count": 37,
   "id": "6bdfe6b7-c05d-498e-b9e2-2727ff66c876",
   "metadata": {},
   "outputs": [
    {
     "data": {
      "text/plain": [
       "['Serious', 'Slight', 'Fatal']\n",
       "Categories (3, object): ['Fatal', 'Serious', 'Slight']"
      ]
     },
     "execution_count": 37,
     "metadata": {},
     "output_type": "execute_result"
    }
   ],
   "source": [
    "uk_road_accident['Accident_Severity'].unique()"
   ]
  },
  {
   "cell_type": "code",
   "execution_count": 38,
   "id": "7b7fc9a7-8821-4b00-841b-2496900b7e98",
   "metadata": {},
   "outputs": [
    {
     "data": {
      "text/plain": [
       "Light_Conditions\n",
       "Darkness - lighting unknown      794\n",
       "Darkness - lights lit          19130\n",
       "Darkness - lights unlit          360\n",
       "Darkness - no lighting          7174\n",
       "Daylight                       60759\n",
       "dtype: int64"
      ]
     },
     "execution_count": 38,
     "metadata": {},
     "output_type": "execute_result"
    }
   ],
   "source": [
    "serious_road_accidents = uk_road_accident[uk_road_accident['Accident_Severity'] == 'Serious'] #just fileters out the Adelie species\n",
    "\n",
    "light_conditions = serious_road_accidents.groupby(['Light_Conditions']).size()\n",
    "light_conditions"
   ]
  },
  {
   "cell_type": "markdown",
   "id": "77205698-695c-42fe-9996-1dfffed15969",
   "metadata": {},
   "source": [
    "INSIGHTS : The lowest number of serious accidents occur in Darkness - lights unlit roads (360 cases)."
   ]
  },
  {
   "cell_type": "markdown",
   "id": "c7d99020-7726-43a3-a0de-0e0622e6dc3e",
   "metadata": {},
   "source": [
    "<h2>8. In which district do the highest number of accidents take place?</h2>"
   ]
  },
  {
   "cell_type": "code",
   "execution_count": 39,
   "id": "848d5134-3d5e-41cf-803c-24dc6f30fa2d",
   "metadata": {},
   "outputs": [
    {
     "data": {
      "text/plain": [
       "Index                      category\n",
       "Accident_Severity          category\n",
       "Accident Date              category\n",
       "Latitude                    float64\n",
       "Light_Conditions           category\n",
       "District Area              category\n",
       "Longitude                   float64\n",
       "Number_of_Casualties          int64\n",
       "Number_of_Vehicles            int64\n",
       "Road_Surface_Conditions    category\n",
       "Road_Type                  category\n",
       "Urban_or_Rural_Area        category\n",
       "Weather_Conditions         category\n",
       "Vehicle_Type               category\n",
       "dtype: object"
      ]
     },
     "execution_count": 39,
     "metadata": {},
     "output_type": "execute_result"
    }
   ],
   "source": [
    "uk_road_accident.dtypes"
   ]
  },
  {
   "cell_type": "code",
   "execution_count": 40,
   "id": "3d15c9d3-1b0a-4c1e-a472-78041a8f8153",
   "metadata": {},
   "outputs": [
    {
     "data": {
      "text/plain": [
       "District Area\n",
       "Birmingham            13491\n",
       "Leeds                  8898\n",
       "Manchester             6720\n",
       "Bradford               6212\n",
       "Sheffield              5710\n",
       "                      ...  \n",
       "Berwick-upon-Tweed      153\n",
       "Teesdale                142\n",
       "Shetland Islands        133\n",
       "Orkney Islands          117\n",
       "Clackmannanshire         91\n",
       "Name: count, Length: 422, dtype: int64"
      ]
     },
     "execution_count": 40,
     "metadata": {},
     "output_type": "execute_result"
    }
   ],
   "source": [
    "district_area = uk_road_accident['District Area'].value_counts()\n",
    "district_area"
   ]
  },
  {
   "cell_type": "markdown",
   "id": "3904704f-4265-4687-aca0-e0fd5b38b81b",
   "metadata": {},
   "source": [
    "INSIGHTS : The district of Birmingham records the most accidents, with 13,491 incidents."
   ]
  },
  {
   "cell_type": "markdown",
   "id": "bd0ca32d-76d4-4098-8af9-713c6f04c534",
   "metadata": {},
   "source": [
    "<h2>9. How many serious accidents occur in the Birmingham district?</h2>"
   ]
  },
  {
   "cell_type": "code",
   "execution_count": 41,
   "id": "9c7cf168-373b-49da-946d-58256403361e",
   "metadata": {},
   "outputs": [
    {
     "data": {
      "text/plain": [
       "Index                      category\n",
       "Accident_Severity          category\n",
       "Accident Date              category\n",
       "Latitude                    float64\n",
       "Light_Conditions           category\n",
       "District Area              category\n",
       "Longitude                   float64\n",
       "Number_of_Casualties          int64\n",
       "Number_of_Vehicles            int64\n",
       "Road_Surface_Conditions    category\n",
       "Road_Type                  category\n",
       "Urban_or_Rural_Area        category\n",
       "Weather_Conditions         category\n",
       "Vehicle_Type               category\n",
       "dtype: object"
      ]
     },
     "execution_count": 41,
     "metadata": {},
     "output_type": "execute_result"
    }
   ],
   "source": [
    "uk_road_accident.dtypes"
   ]
  },
  {
   "cell_type": "code",
   "execution_count": 42,
   "id": "be10fea4-e0ae-41d2-a8c9-95151666bbe2",
   "metadata": {},
   "outputs": [
    {
     "data": {
      "text/plain": [
       "Accident_Severity\n",
       "Fatal        105\n",
       "Serious     1474\n",
       "Slight     11912\n",
       "dtype: int64"
      ]
     },
     "execution_count": 42,
     "metadata": {},
     "output_type": "execute_result"
    }
   ],
   "source": [
    "serious_road_accidents = uk_road_accident[uk_road_accident['District Area'] == 'Birmingham'] #just fileters out the Adelie species\n",
    "\n",
    "severity = serious_road_accidents.groupby(['Accident_Severity']).size()\n",
    "severity"
   ]
  },
  {
   "cell_type": "markdown",
   "id": "b67346e2-fd54-4857-946f-22ed14d702d1",
   "metadata": {},
   "source": [
    "INSIGHTS : Birmingham has 1,474 serious accidents on record."
   ]
  },
  {
   "cell_type": "markdown",
   "id": "d14a3d6a-1da5-4c92-81c0-0bed0eaf54c4",
   "metadata": {},
   "source": [
    "<h2>10. Which type of vehicle is least often involved in accidents in Birmingham??</h2>"
   ]
  },
  {
   "cell_type": "code",
   "execution_count": 43,
   "id": "14e79758-b494-4870-934e-fb9e9abe263b",
   "metadata": {},
   "outputs": [
    {
     "data": {
      "text/plain": [
       "Index                      category\n",
       "Accident_Severity          category\n",
       "Accident Date              category\n",
       "Latitude                    float64\n",
       "Light_Conditions           category\n",
       "District Area              category\n",
       "Longitude                   float64\n",
       "Number_of_Casualties          int64\n",
       "Number_of_Vehicles            int64\n",
       "Road_Surface_Conditions    category\n",
       "Road_Type                  category\n",
       "Urban_or_Rural_Area        category\n",
       "Weather_Conditions         category\n",
       "Vehicle_Type               category\n",
       "dtype: object"
      ]
     },
     "execution_count": 43,
     "metadata": {},
     "output_type": "execute_result"
    }
   ],
   "source": [
    "uk_road_accident.dtypes"
   ]
  },
  {
   "cell_type": "code",
   "execution_count": 44,
   "id": "fea1b41c-ae12-4e6c-9648-0e3f99c7c2c9",
   "metadata": {},
   "outputs": [
    {
     "data": {
      "text/plain": [
       "Vehicle_Type\n",
       "Agricultural vehicle                       61\n",
       "Bus or coach (17 or more pass seats)      570\n",
       "Car                                      9600\n",
       "Data missing or out of range                0\n",
       "Goods 7.5 tonnes mgw and over             463\n",
       "Goods over 3.5t. and under 7.5t           132\n",
       "Minibus (8 - 16 passenger seats)           43\n",
       "Motorcycle 125cc and under                362\n",
       "Motorcycle 50cc and under                 134\n",
       "Motorcycle over 125cc and up to 500cc     133\n",
       "Motorcycle over 500cc                     578\n",
       "Other vehicle                             113\n",
       "Pedal cycle                                13\n",
       "Ridden horse                                0\n",
       "Taxi/Private hire car                     504\n",
       "Van / Goods 3.5 tonnes mgw or under       785\n",
       "dtype: int64"
      ]
     },
     "execution_count": 44,
     "metadata": {},
     "output_type": "execute_result"
    }
   ],
   "source": [
    "road_district = uk_road_accident[uk_road_accident['District Area'] == 'Birmingham'] #just fileters out the Adelie species\n",
    "\n",
    "vehicle_type = road_district.groupby(['Vehicle_Type']).size()\n",
    "vehicle_type"
   ]
  },
  {
   "cell_type": "markdown",
   "id": "a6342243-c9d9-4dee-91a0-59c752ef55aa",
   "metadata": {},
   "source": [
    "INSIGHTS : Pedal cycles are the least involved, with just 13 accidents. This may be due to fewer cyclists compared to cars and other vehicles."
   ]
  },
  {
   "cell_type": "markdown",
   "id": "7ec952fc-0636-4449-bc28-eb56a2f74e0d",
   "metadata": {},
   "source": [
    "<h2>11. What road surface conditions are most often linked to accidents in Birmingham?</h2>"
   ]
  },
  {
   "cell_type": "code",
   "execution_count": 45,
   "id": "91338f58-9bde-46cb-872c-bc93774d0191",
   "metadata": {},
   "outputs": [
    {
     "data": {
      "text/plain": [
       "Index                      category\n",
       "Accident_Severity          category\n",
       "Accident Date              category\n",
       "Latitude                    float64\n",
       "Light_Conditions           category\n",
       "District Area              category\n",
       "Longitude                   float64\n",
       "Number_of_Casualties          int64\n",
       "Number_of_Vehicles            int64\n",
       "Road_Surface_Conditions    category\n",
       "Road_Type                  category\n",
       "Urban_or_Rural_Area        category\n",
       "Weather_Conditions         category\n",
       "Vehicle_Type               category\n",
       "dtype: object"
      ]
     },
     "execution_count": 45,
     "metadata": {},
     "output_type": "execute_result"
    }
   ],
   "source": [
    "uk_road_accident.dtypes"
   ]
  },
  {
   "cell_type": "code",
   "execution_count": 46,
   "id": "80652107-50dc-4980-bb48-826f5b0ef736",
   "metadata": {},
   "outputs": [
    {
     "data": {
      "text/plain": [
       "Road_Surface_Conditions\n",
       "Dry                     9367\n",
       "Flood over 3cm. deep       8\n",
       "Frost or ice             306\n",
       "Snow                     109\n",
       "Wet or damp             3701\n",
       "dtype: int64"
      ]
     },
     "execution_count": 46,
     "metadata": {},
     "output_type": "execute_result"
    }
   ],
   "source": [
    "road_district = uk_road_accident[uk_road_accident['District Area'] == 'Birmingham'] #just fileters out the Adelie species\n",
    "\n",
    "road_condition = road_district.groupby(['Road_Surface_Conditions']).size()\n",
    "road_condition"
   ]
  },
  {
   "cell_type": "markdown",
   "id": "c230a446-a025-4c8a-9ff7-6c4411efb982",
   "metadata": {},
   "source": [
    "INSIGHTS : Most accidents in Birmingham happen on dry roads (9,367 accidents)."
   ]
  },
  {
   "cell_type": "markdown",
   "id": "627e5d10-e0fe-4b68-963f-672306099b35",
   "metadata": {},
   "source": [
    "<h2>12. Under which weather conditions do most accidents occur in Birmingham?</h2>"
   ]
  },
  {
   "cell_type": "code",
   "execution_count": 47,
   "id": "4568ad55-1458-4abe-b541-d70a6da0676a",
   "metadata": {},
   "outputs": [
    {
     "data": {
      "text/plain": [
       "Index                      category\n",
       "Accident_Severity          category\n",
       "Accident Date              category\n",
       "Latitude                    float64\n",
       "Light_Conditions           category\n",
       "District Area              category\n",
       "Longitude                   float64\n",
       "Number_of_Casualties          int64\n",
       "Number_of_Vehicles            int64\n",
       "Road_Surface_Conditions    category\n",
       "Road_Type                  category\n",
       "Urban_or_Rural_Area        category\n",
       "Weather_Conditions         category\n",
       "Vehicle_Type               category\n",
       "dtype: object"
      ]
     },
     "execution_count": 47,
     "metadata": {},
     "output_type": "execute_result"
    }
   ],
   "source": [
    "uk_road_accident.dtypes"
   ]
  },
  {
   "cell_type": "code",
   "execution_count": 48,
   "id": "b1a35e6f-6a08-4d34-93bc-ef480539e80d",
   "metadata": {},
   "outputs": [
    {
     "data": {
      "text/plain": [
       "Weather_Conditions\n",
       "Fine + high winds          125\n",
       "Fine no high winds       10638\n",
       "Fog or mist                 37\n",
       "Other                      713\n",
       "Raining + high winds       126\n",
       "Raining no high winds     1717\n",
       "Snowing + high winds         8\n",
       "Snowing no high winds      127\n",
       "dtype: int64"
      ]
     },
     "execution_count": 48,
     "metadata": {},
     "output_type": "execute_result"
    }
   ],
   "source": [
    "road_district = uk_road_accident[uk_road_accident['District Area'] == 'Birmingham'] #just fileters out the Adelie species\n",
    "\n",
    "weather_condition = road_district.groupby(['Weather_Conditions']).size()\n",
    "weather_condition"
   ]
  },
  {
   "cell_type": "markdown",
   "id": "47a0a922-3427-44e9-b281-d6587c4dc501",
   "metadata": {},
   "source": [
    "INSIGHTS : Fine weather with no strong winds accounts for 10,638 accidents in Birmingham. This again shows that accidents happen mainly in normal driving conditions rather than extreme weather."
   ]
  },
  {
   "cell_type": "markdown",
   "id": "0d2fe174-4bc8-4531-98ab-0a471994e674",
   "metadata": {},
   "source": [
    "<h2>13. How many fatal accidents are recorded in the Clackmannanshire district?</h2>"
   ]
  },
  {
   "cell_type": "code",
   "execution_count": 49,
   "id": "bde87375-1029-4950-9c9a-c416b9b23092",
   "metadata": {},
   "outputs": [
    {
     "data": {
      "text/plain": [
       "Index                      category\n",
       "Accident_Severity          category\n",
       "Accident Date              category\n",
       "Latitude                    float64\n",
       "Light_Conditions           category\n",
       "District Area              category\n",
       "Longitude                   float64\n",
       "Number_of_Casualties          int64\n",
       "Number_of_Vehicles            int64\n",
       "Road_Surface_Conditions    category\n",
       "Road_Type                  category\n",
       "Urban_or_Rural_Area        category\n",
       "Weather_Conditions         category\n",
       "Vehicle_Type               category\n",
       "dtype: object"
      ]
     },
     "execution_count": 49,
     "metadata": {},
     "output_type": "execute_result"
    }
   ],
   "source": [
    "uk_road_accident.dtypes"
   ]
  },
  {
   "cell_type": "code",
   "execution_count": 50,
   "id": "5712e0d7-a1bc-4198-ba55-7ecec9103ec9",
   "metadata": {},
   "outputs": [
    {
     "data": {
      "text/plain": [
       "Accident_Severity\n",
       "Fatal       1\n",
       "Serious    18\n",
       "Slight     72\n",
       "dtype: int64"
      ]
     },
     "execution_count": 50,
     "metadata": {},
     "output_type": "execute_result"
    }
   ],
   "source": [
    "road_district = uk_road_accident[uk_road_accident['District Area'] == 'Clackmannanshire'] #just fileters out the Adelie species\n",
    "\n",
    "accident_severity = road_district.groupby(['Accident_Severity']).size()\n",
    "accident_severity"
   ]
  },
  {
   "cell_type": "markdown",
   "id": "4c583469-03d1-464e-a333-3c4c37205685",
   "metadata": {},
   "source": [
    "INSIGHTS : Only 1 fatal accident is reported in Clackmannanshire. This suggests that while accidents occur, very few result in fatalities."
   ]
  },
  {
   "cell_type": "markdown",
   "id": "51982815-2f0d-42f6-be6b-f252a31ee2c5",
   "metadata": {},
   "source": [
    "<h2>14. Which road surface condition is least associated with accidents in Clackmannanshire?</h2>"
   ]
  },
  {
   "cell_type": "code",
   "execution_count": 51,
   "id": "6c423a14-34b2-4572-ade4-355e16d0f2d3",
   "metadata": {},
   "outputs": [
    {
     "data": {
      "text/plain": [
       "Index                      category\n",
       "Accident_Severity          category\n",
       "Accident Date              category\n",
       "Latitude                    float64\n",
       "Light_Conditions           category\n",
       "District Area              category\n",
       "Longitude                   float64\n",
       "Number_of_Casualties          int64\n",
       "Number_of_Vehicles            int64\n",
       "Road_Surface_Conditions    category\n",
       "Road_Type                  category\n",
       "Urban_or_Rural_Area        category\n",
       "Weather_Conditions         category\n",
       "Vehicle_Type               category\n",
       "dtype: object"
      ]
     },
     "execution_count": 51,
     "metadata": {},
     "output_type": "execute_result"
    }
   ],
   "source": [
    "uk_road_accident.dtypes"
   ]
  },
  {
   "cell_type": "code",
   "execution_count": 52,
   "id": "16afc318-27e4-447a-aa77-c62b2be26c89",
   "metadata": {},
   "outputs": [
    {
     "data": {
      "text/plain": [
       "Road_Surface_Conditions\n",
       "Dry                     56\n",
       "Flood over 3cm. deep     0\n",
       "Frost or ice             4\n",
       "Snow                     0\n",
       "Wet or damp             31\n",
       "dtype: int64"
      ]
     },
     "execution_count": 52,
     "metadata": {},
     "output_type": "execute_result"
    }
   ],
   "source": [
    "road_district = uk_road_accident[uk_road_accident['District Area'] == 'Clackmannanshire'] #just fileters out the Adelie species\n",
    "\n",
    "road_condition = road_district.groupby(['Road_Surface_Conditions']).size()\n",
    "road_condition"
   ]
  },
  {
   "cell_type": "markdown",
   "id": "656f58a7-28a3-4d5a-9e73-93b275836ab1",
   "metadata": {},
   "source": [
    "INSIGHTS : Frost or ice is linked to just 4 accidents."
   ]
  },
  {
   "cell_type": "markdown",
   "id": "70105716-d4ae-4bcb-9f87-e55631027d81",
   "metadata": {},
   "source": [
    "<h2>15. Which road surface condition is associated with the very fewest accidents in Clackmannanshire?</h2>"
   ]
  },
  {
   "cell_type": "code",
   "execution_count": 53,
   "id": "2d2b125f-4192-476f-9f2c-c16289ce891c",
   "metadata": {},
   "outputs": [
    {
     "data": {
      "text/plain": [
       "Index                      category\n",
       "Accident_Severity          category\n",
       "Accident Date              category\n",
       "Latitude                    float64\n",
       "Light_Conditions           category\n",
       "District Area              category\n",
       "Longitude                   float64\n",
       "Number_of_Casualties          int64\n",
       "Number_of_Vehicles            int64\n",
       "Road_Surface_Conditions    category\n",
       "Road_Type                  category\n",
       "Urban_or_Rural_Area        category\n",
       "Weather_Conditions         category\n",
       "Vehicle_Type               category\n",
       "dtype: object"
      ]
     },
     "execution_count": 53,
     "metadata": {},
     "output_type": "execute_result"
    }
   ],
   "source": [
    "uk_road_accident.dtypes"
   ]
  },
  {
   "cell_type": "code",
   "execution_count": 54,
   "id": "52481452-8682-4679-ad22-c8a56a794d65",
   "metadata": {},
   "outputs": [
    {
     "data": {
      "text/plain": [
       "Weather_Conditions\n",
       "Fine + high winds         3\n",
       "Fine no high winds       71\n",
       "Fog or mist               1\n",
       "Other                     5\n",
       "Raining + high winds      0\n",
       "Raining no high winds    11\n",
       "Snowing + high winds      0\n",
       "Snowing no high winds     0\n",
       "dtype: int64"
      ]
     },
     "execution_count": 54,
     "metadata": {},
     "output_type": "execute_result"
    }
   ],
   "source": [
    "road_district = uk_road_accident[uk_road_accident['District Area'] == 'Clackmannanshire'] #just fileters out the Adelie species\n",
    "\n",
    "weather_condition = road_district.groupby(['Weather_Conditions']).size()\n",
    "weather_condition"
   ]
  },
  {
   "cell_type": "markdown",
   "id": "7ac647fe-3d6a-478d-bce5-9ede34a4c838",
   "metadata": {},
   "source": [
    "INSIGHTS : Fog or mist has the lowest number, with only 1 accident recorded."
   ]
  },
  {
   "cell_type": "markdown",
   "id": "b726fb2a-1cb0-4775-b63b-5a037aae38d6",
   "metadata": {},
   "source": [
    "<h2>16. In what type of weather do the fewest car accidents occur?</h2>"
   ]
  },
  {
   "cell_type": "code",
   "execution_count": 55,
   "id": "294b4ef9-b46c-4c51-97d3-908885c81658",
   "metadata": {},
   "outputs": [
    {
     "data": {
      "text/plain": [
       "Index                      category\n",
       "Accident_Severity          category\n",
       "Accident Date              category\n",
       "Latitude                    float64\n",
       "Light_Conditions           category\n",
       "District Area              category\n",
       "Longitude                   float64\n",
       "Number_of_Casualties          int64\n",
       "Number_of_Vehicles            int64\n",
       "Road_Surface_Conditions    category\n",
       "Road_Type                  category\n",
       "Urban_or_Rural_Area        category\n",
       "Weather_Conditions         category\n",
       "Vehicle_Type               category\n",
       "dtype: object"
      ]
     },
     "execution_count": 55,
     "metadata": {},
     "output_type": "execute_result"
    }
   ],
   "source": [
    "uk_road_accident.dtypes"
   ]
  },
  {
   "cell_type": "code",
   "execution_count": 56,
   "id": "e3f058b9-b0d3-4fb6-8161-1167a4e36843",
   "metadata": {},
   "outputs": [
    {
     "data": {
      "text/plain": [
       "Weather_Conditions\n",
       "Fine + high winds          6463\n",
       "Fine no high winds       403324\n",
       "Fog or mist                2641\n",
       "Other                     12993\n",
       "Raining + high winds       7206\n",
       "Raining no high winds     59940\n",
       "Snowing + high winds        677\n",
       "Snowing no high winds      4748\n",
       "dtype: int64"
      ]
     },
     "execution_count": 56,
     "metadata": {},
     "output_type": "execute_result"
    }
   ],
   "source": [
    "road_district = uk_road_accident[uk_road_accident['Vehicle_Type'] == 'Car'] #just fileters out the Adelie species\n",
    "\n",
    "weather_condition = road_district.groupby(['Weather_Conditions']).size()\n",
    "weather_condition"
   ]
  },
  {
   "cell_type": "markdown",
   "id": "b2eb0144-f204-47cc-b007-444af0d03b3c",
   "metadata": {},
   "source": [
    "INSIGHTS : The lowest number of car accidents happen in snow with strong winds (677 accidents). Extreme weather may discourage travel, lowering accident rates."
   ]
  },
  {
   "cell_type": "markdown",
   "id": "a70b4050-0618-4929-b1a7-37fe8948897a",
   "metadata": {},
   "source": [
    "<h2>17. In what type of weather do fewest bus accidents occur?</h2>"
   ]
  },
  {
   "cell_type": "code",
   "execution_count": 57,
   "id": "1c8a9f81-3fc7-45ae-8399-0a5ae3013508",
   "metadata": {},
   "outputs": [
    {
     "data": {
      "text/plain": [
       "Index                      category\n",
       "Accident_Severity          category\n",
       "Accident Date              category\n",
       "Latitude                    float64\n",
       "Light_Conditions           category\n",
       "District Area              category\n",
       "Longitude                   float64\n",
       "Number_of_Casualties          int64\n",
       "Number_of_Vehicles            int64\n",
       "Road_Surface_Conditions    category\n",
       "Road_Type                  category\n",
       "Urban_or_Rural_Area        category\n",
       "Weather_Conditions         category\n",
       "Vehicle_Type               category\n",
       "dtype: object"
      ]
     },
     "execution_count": 57,
     "metadata": {},
     "output_type": "execute_result"
    }
   ],
   "source": [
    "uk_road_accident.dtypes"
   ]
  },
  {
   "cell_type": "code",
   "execution_count": 58,
   "id": "a7912b85-1b58-4e45-a105-39da107f5575",
   "metadata": {},
   "outputs": [
    {
     "data": {
      "text/plain": [
       "Weather_Conditions\n",
       "Fine + high winds          350\n",
       "Fine no high winds       20963\n",
       "Fog or mist                134\n",
       "Other                      609\n",
       "Raining + high winds       389\n",
       "Raining no high winds     3182\n",
       "Snowing + high winds        32\n",
       "Snowing no high winds      219\n",
       "dtype: int64"
      ]
     },
     "execution_count": 58,
     "metadata": {},
     "output_type": "execute_result"
    }
   ],
   "source": [
    "vehicle_type = uk_road_accident[uk_road_accident['Vehicle_Type'] == 'Bus or coach (17 or more pass seats)'] #just fileters out the Adelie species\n",
    "\n",
    "weather_condition = vehicle_type.groupby(['Weather_Conditions']).size()\n",
    "weather_condition"
   ]
  },
  {
   "cell_type": "markdown",
   "id": "aa61fd18-d87d-4e57-a1fb-4fa20cb75d2b",
   "metadata": {},
   "source": [
    "INSIGHTS : Snowing + high winds."
   ]
  },
  {
   "cell_type": "markdown",
   "id": "8ac87ad4-2ef9-4664-b926-21e4bf000281",
   "metadata": {},
   "source": [
    "<h2>18. How many 1 casualties are recorded in Birmingham?</h2>"
   ]
  },
  {
   "cell_type": "code",
   "execution_count": 59,
   "id": "9cd6d8e9-fc82-45e0-8d5b-6b5b6fdd598c",
   "metadata": {},
   "outputs": [
    {
     "data": {
      "text/plain": [
       "Index                      category\n",
       "Accident_Severity          category\n",
       "Accident Date              category\n",
       "Latitude                    float64\n",
       "Light_Conditions           category\n",
       "District Area              category\n",
       "Longitude                   float64\n",
       "Number_of_Casualties          int64\n",
       "Number_of_Vehicles            int64\n",
       "Road_Surface_Conditions    category\n",
       "Road_Type                  category\n",
       "Urban_or_Rural_Area        category\n",
       "Weather_Conditions         category\n",
       "Vehicle_Type               category\n",
       "dtype: object"
      ]
     },
     "execution_count": 59,
     "metadata": {},
     "output_type": "execute_result"
    }
   ],
   "source": [
    "uk_road_accident.dtypes"
   ]
  },
  {
   "cell_type": "code",
   "execution_count": 60,
   "id": "a8ad32f9-2427-44ba-bab4-78f7030126f1",
   "metadata": {},
   "outputs": [
    {
     "name": "stdout",
     "output_type": "stream",
     "text": [
      "Number_of_Casualties\n",
      "1     10138\n",
      "2      2238\n",
      "3       681\n",
      "4       276\n",
      "5        88\n",
      "6        47\n",
      "7        14\n",
      "8         4\n",
      "9         2\n",
      "10        1\n",
      "15        1\n",
      "18        1\n",
      "dtype: int64 13491\n"
     ]
    }
   ],
   "source": [
    "road_district = uk_road_accident[uk_road_accident['District Area'] == 'Birmingham'] #just fileters out the Adelie species\n",
    "\n",
    "no_casualties = road_district.groupby(['Number_of_Casualties']).size()\n",
    "\n",
    "print(no_casualties, no_casualties.sum())"
   ]
  },
  {
   "cell_type": "markdown",
   "id": "316bf238-7b51-4bfe-891d-03a22985d8c0",
   "metadata": {},
   "source": [
    "INSIGHTS : Birmingham records 10,138 casualties in road accidents."
   ]
  },
  {
   "cell_type": "markdown",
   "id": "ab84c543-3094-4b95-bdd2-bf67f850d27d",
   "metadata": {},
   "source": [
    "<h2>19. Birmingham records 10,138 casualties in road accidents?</h2>"
   ]
  },
  {
   "cell_type": "code",
   "execution_count": 61,
   "id": "552f8bba-c9fa-47c8-949a-59d03c41e4e5",
   "metadata": {},
   "outputs": [
    {
     "data": {
      "text/plain": [
       "Index                      category\n",
       "Accident_Severity          category\n",
       "Accident Date              category\n",
       "Latitude                    float64\n",
       "Light_Conditions           category\n",
       "District Area              category\n",
       "Longitude                   float64\n",
       "Number_of_Casualties          int64\n",
       "Number_of_Vehicles            int64\n",
       "Road_Surface_Conditions    category\n",
       "Road_Type                  category\n",
       "Urban_or_Rural_Area        category\n",
       "Weather_Conditions         category\n",
       "Vehicle_Type               category\n",
       "dtype: object"
      ]
     },
     "execution_count": 61,
     "metadata": {},
     "output_type": "execute_result"
    }
   ],
   "source": [
    "uk_road_accident.dtypes"
   ]
  },
  {
   "cell_type": "code",
   "execution_count": 62,
   "id": "a2287481-1e58-498a-98b2-d560acae6024",
   "metadata": {},
   "outputs": [
    {
     "data": {
      "text/plain": [
       "Road_Type\n",
       "Dual carriageway      3039\n",
       "One way street         321\n",
       "Roundabout            1008\n",
       "Single carriageway    9025\n",
       "Slip road               98\n",
       "dtype: int64"
      ]
     },
     "execution_count": 62,
     "metadata": {},
     "output_type": "execute_result"
    }
   ],
   "source": [
    "road_district = uk_road_accident[uk_road_accident['District Area'] == 'Birmingham'] #just fileters out the Adelie species\n",
    "\n",
    "road_type = road_district.groupby(['Road_Type']).size()\n",
    "road_type"
   ]
  },
  {
   "cell_type": "markdown",
   "id": "8a310de1-c6f7-4a74-b7e3-802fc7f4b896",
   "metadata": {},
   "source": [
    "INSIGHTS : Single carriageways are the most accident-prone, with 9,025 incidents."
   ]
  },
  {
   "cell_type": "markdown",
   "id": "1f6c28b4-87e0-4464-94fd-c2bc70435400",
   "metadata": {},
   "source": [
    "<h2>20. Which type of road accounts for the fewest accidents in Clackmannanshire?</h2>"
   ]
  },
  {
   "cell_type": "code",
   "execution_count": 63,
   "id": "9ebd14e1-64f2-4d1c-834a-b4a1fb56d1d3",
   "metadata": {},
   "outputs": [
    {
     "data": {
      "text/plain": [
       "Index                      category\n",
       "Accident_Severity          category\n",
       "Accident Date              category\n",
       "Latitude                    float64\n",
       "Light_Conditions           category\n",
       "District Area              category\n",
       "Longitude                   float64\n",
       "Number_of_Casualties          int64\n",
       "Number_of_Vehicles            int64\n",
       "Road_Surface_Conditions    category\n",
       "Road_Type                  category\n",
       "Urban_or_Rural_Area        category\n",
       "Weather_Conditions         category\n",
       "Vehicle_Type               category\n",
       "dtype: object"
      ]
     },
     "execution_count": 63,
     "metadata": {},
     "output_type": "execute_result"
    }
   ],
   "source": [
    "uk_road_accident.dtypes"
   ]
  },
  {
   "cell_type": "code",
   "execution_count": 64,
   "id": "c0a9ed04-706a-413c-ad2e-7b91e39df88c",
   "metadata": {},
   "outputs": [
    {
     "data": {
      "text/plain": [
       "Road_Type\n",
       "Dual carriageway       7\n",
       "One way street         2\n",
       "Roundabout            12\n",
       "Single carriageway    70\n",
       "Slip road              0\n",
       "dtype: int64"
      ]
     },
     "execution_count": 64,
     "metadata": {},
     "output_type": "execute_result"
    }
   ],
   "source": [
    "road_district = uk_road_accident[uk_road_accident['District Area'] == 'Clackmannanshire'] #just fileters out the Adelie species\n",
    "\n",
    "road_type = road_district.groupby(['Road_Type']).size()\n",
    "road_type"
   ]
  },
  {
   "cell_type": "markdown",
   "id": "c7e6e374-4107-4c24-b1b2-79a26428f8be",
   "metadata": {},
   "source": [
    "INSIGHTS : One-way streets have the lowest accident count, with only 2 cases."
   ]
  },
  {
   "cell_type": "markdown",
   "id": "bd0a7cb0-7027-4fe0-9a46-ba39b9d52f0c",
   "metadata": {},
   "source": [
    "<h2>21. On which type of road do car accidents occur least frequently?</h2>"
   ]
  },
  {
   "cell_type": "code",
   "execution_count": 65,
   "id": "9fd59f40-d720-4180-a854-38a4a3deb76a",
   "metadata": {},
   "outputs": [
    {
     "data": {
      "text/plain": [
       "Index                      category\n",
       "Accident_Severity          category\n",
       "Accident Date              category\n",
       "Latitude                    float64\n",
       "Light_Conditions           category\n",
       "District Area              category\n",
       "Longitude                   float64\n",
       "Number_of_Casualties          int64\n",
       "Number_of_Vehicles            int64\n",
       "Road_Surface_Conditions    category\n",
       "Road_Type                  category\n",
       "Urban_or_Rural_Area        category\n",
       "Weather_Conditions         category\n",
       "Vehicle_Type               category\n",
       "dtype: object"
      ]
     },
     "execution_count": 65,
     "metadata": {},
     "output_type": "execute_result"
    }
   ],
   "source": [
    "uk_road_accident.dtypes"
   ]
  },
  {
   "cell_type": "code",
   "execution_count": 66,
   "id": "f285ae6c-05a6-4c28-9c22-94eaada8f128",
   "metadata": {},
   "outputs": [
    {
     "data": {
      "text/plain": [
       "Road_Type\n",
       "Dual carriageway       74820\n",
       "One way street         10223\n",
       "Roundabout             33187\n",
       "Single carriageway    374464\n",
       "Slip road               5298\n",
       "dtype: int64"
      ]
     },
     "execution_count": 66,
     "metadata": {},
     "output_type": "execute_result"
    }
   ],
   "source": [
    "vehicle_type = uk_road_accident[uk_road_accident['Vehicle_Type'] == 'Car'] #just fileters out the Adelie species\n",
    "\n",
    "road_type = vehicle_type.groupby(['Road_Type']).size()\n",
    "road_type"
   ]
  },
  {
   "cell_type": "markdown",
   "id": "02e59e8c-20cf-48c4-8cde-5c3377d4ab87",
   "metadata": {},
   "source": [
    "INSIGHTS : Car accidents are least common on slip roads (5,298 accidents)."
   ]
  },
  {
   "cell_type": "markdown",
   "id": "17b6df93-4667-45de-9ac1-c8cb66e8c28f",
   "metadata": {},
   "source": [
    "<h2>22. Under which road surface conditions do car accidents occur least often?</h2>"
   ]
  },
  {
   "cell_type": "code",
   "execution_count": 67,
   "id": "3ffb4560-74f7-481a-8fb5-594cb2c6692f",
   "metadata": {},
   "outputs": [
    {
     "data": {
      "text/plain": [
       "Index                      category\n",
       "Accident_Severity          category\n",
       "Accident Date              category\n",
       "Latitude                    float64\n",
       "Light_Conditions           category\n",
       "District Area              category\n",
       "Longitude                   float64\n",
       "Number_of_Casualties          int64\n",
       "Number_of_Vehicles            int64\n",
       "Road_Surface_Conditions    category\n",
       "Road_Type                  category\n",
       "Urban_or_Rural_Area        category\n",
       "Weather_Conditions         category\n",
       "Vehicle_Type               category\n",
       "dtype: object"
      ]
     },
     "execution_count": 67,
     "metadata": {},
     "output_type": "execute_result"
    }
   ],
   "source": [
    "uk_road_accident.dtypes"
   ]
  },
  {
   "cell_type": "code",
   "execution_count": 68,
   "id": "99ba7e45-4d2d-4aca-a588-764a0091343c",
   "metadata": {
    "scrolled": true
   },
   "outputs": [
    {
     "data": {
      "text/plain": [
       "Road_Surface_Conditions\n",
       "Dry                     337860\n",
       "Flood over 3cm. deep       777\n",
       "Frost or ice             14108\n",
       "Snow                      4483\n",
       "Wet or damp             140764\n",
       "dtype: int64"
      ]
     },
     "execution_count": 68,
     "metadata": {},
     "output_type": "execute_result"
    }
   ],
   "source": [
    "vehicle_type = uk_road_accident[uk_road_accident['Vehicle_Type'] == 'Car'] #just fileters out the Adelie species\n",
    "\n",
    "road_condition = vehicle_type.groupby(['Road_Surface_Conditions']).size()\n",
    "road_condition"
   ]
  },
  {
   "cell_type": "markdown",
   "id": "b2923d30-876d-42df-a28a-4d9ff4bc4445",
   "metadata": {},
   "source": [
    "INSIGHTS : The fewest car accidents occur on flooded roads over 3cm deep (777 cases)."
   ]
  }
 ],
 "metadata": {
  "kernelspec": {
   "display_name": "Python 3 (ipykernel)",
   "language": "python",
   "name": "python3"
  },
  "language_info": {
   "codemirror_mode": {
    "name": "ipython",
    "version": 3
   },
   "file_extension": ".py",
   "mimetype": "text/x-python",
   "name": "python",
   "nbconvert_exporter": "python",
   "pygments_lexer": "ipython3",
   "version": "3.13.6"
  }
 },
 "nbformat": 4,
 "nbformat_minor": 5
}
